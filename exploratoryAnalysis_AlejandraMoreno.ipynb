{
 "cells": [
  {
   "cell_type": "markdown",
   "id": "5aded2a8",
   "metadata": {},
   "source": [
    "## Exploratory Analysis\n",
    "### Profeco monitored products in Mexico\n",
    "###### Author: Alejandra Elizabeth Moreno Morales"
   ]
  },
  {
   "cell_type": "markdown",
   "id": "b096f5ad",
   "metadata": {},
   "source": [
    "### 1. How many commercial chains are monitored, and therefore, included in this database?"
   ]
  },
  {
   "cell_type": "code",
   "execution_count": 3,
   "id": "62590556",
   "metadata": {},
   "outputs": [
    {
     "name": "stdout",
     "output_type": "stream",
     "text": [
      "Index              5648\n",
      "cadenaComercial    5648\n",
      "dtype: int64\n"
     ]
    }
   ],
   "source": [
    "import pandas as pd\n",
    "\n",
    "# Variables and declarations\n",
    "file = ('all_data.csv')\n",
    "chunk_size = 100000\n",
    "queryTemp = []\n",
    "query = pd.DataFrame()\n",
    "result = pd.DataFrame()\n",
    "\n",
    "# Processing query by chunks\n",
    "for chunk in pd.read_csv(file, chunksize=chunk_size, iterator=True, low_memory=False):   \n",
    "    query = chunk['cadenaComercial'].drop_duplicates(keep='first')\n",
    "    queryTemp.append(query)\n",
    "    \n",
    "# Fit result to show\n",
    "query = pd.concat(queryTemp).drop_duplicates()\n",
    "result = query.to_frame()\n",
    "result.sort_values(by='cadenaComercial', ascending=True, inplace=True)\n",
    "\n",
    "# Result output file\n",
    "result.to_csv('result_q1.csv', index=False)\n",
    "\n",
    "# Memory use of each column along with the index\n",
    "print(result.memory_usage(index = True))"
   ]
  },
  {
   "cell_type": "markdown",
   "id": "c2f82f2a",
   "metadata": {},
   "source": [
    "### 2. What are the top 10 monitored products by State?"
   ]
  },
  {
   "cell_type": "code",
   "execution_count": 1,
   "id": "8ae691f9",
   "metadata": {},
   "outputs": [
    {
     "name": "stdout",
     "output_type": "stream",
     "text": [
      "7118\n"
     ]
    }
   ],
   "source": [
    "import pandas as pd\n",
    "\n",
    "# Variables and declarations\n",
    "file = ('all_data.csv')\n",
    "chunk_size = 100000\n",
    "query = pd.DataFrame()\n",
    "result = None\n",
    "\n",
    "# Processing query by chunks\n",
    "for chunk in pd.read_csv(file, chunksize=chunk_size, iterator=True, low_memory=False):   \n",
    "    query = chunk[['estado', 'producto', 'marca']].groupby(['estado', 'producto']).count()\n",
    "    if result is None:\n",
    "        result = query\n",
    "    else:\n",
    "        result = result.add(query, fill_value=0)\n",
    "\n",
    "# Fit result to show\n",
    "result = result.rename(columns={'marca' : 'count'})\n",
    "result = result.groupby('estado')['count'].nlargest(10)\n",
    "\n",
    "# Result output file\n",
    "result.to_csv('result_q2.csv')\n",
    "\n",
    "# Memory use of each column along with the index\n",
    "print(result.memory_usage(index = True))"
   ]
  },
  {
   "cell_type": "markdown",
   "id": "dad092da",
   "metadata": {},
   "source": [
    "### 3. Which is the commercial chain with the highest number of monitored products?"
   ]
  },
  {
   "cell_type": "code",
   "execution_count": 2,
   "id": "74d765f7",
   "metadata": {},
   "outputs": [
    {
     "name": "stdout",
     "output_type": "stream",
     "text": [
      "The commercial chain with the highest number of monitored product is:  cadenaComercial\n",
      "WAL-MART    351500.0\n",
      "Name: count, dtype: float64\n",
      "Index    8\n",
      "count    8\n",
      "dtype: int64\n"
     ]
    }
   ],
   "source": [
    "import pandas as pd\n",
    "\n",
    "# Variables and declarations\n",
    "file = ('all_data.csv')\n",
    "chunk_size = 100000\n",
    "query = pd.DataFrame()\n",
    "result = None\n",
    "col_list = ['cadenaComercial', 'nombreComercial','producto']\n",
    "\n",
    "# Processing query by chunks\n",
    "for chunk in pd.read_csv(file, chunksize=chunk_size, usecols = col_list, iterator=True, low_memory=False):   \n",
    "    query = chunk.groupby(by=['cadenaComercial','producto']).all().groupby(level=0).sum()\n",
    "    if result is None:\n",
    "        result = query\n",
    "    else:\n",
    "        result = result.add(query, fill_value=0)\n",
    "        \n",
    "# Fit result to show   \n",
    "result = result.rename(columns={'nombreComercial' : 'count'})\n",
    "result = result.nlargest(1,'count')\n",
    "\n",
    "# Result output file\n",
    "result.to_csv('result_q3.csv')\n",
    "\n",
    "# Result\n",
    "print('The commercial chain with the highest number of monitored product is: ', result.iloc[:,0])\n",
    "\n",
    "# Memory use of each column along with the index\n",
    "print(result.memory_usage(index = True))"
   ]
  },
  {
   "cell_type": "markdown",
   "id": "ea450211",
   "metadata": {},
   "source": [
    "### 4. Use the data to find an interesting fact"
   ]
  },
  {
   "cell_type": "code",
   "execution_count": 3,
   "id": "0ab8842c",
   "metadata": {},
   "outputs": [
    {
     "name": "stdout",
     "output_type": "stream",
     "text": [
      "509327\n"
     ]
    }
   ],
   "source": [
    "import pandas as pd\n",
    "\n",
    "# Variables and declarations\n",
    "file = ('all_data.csv')\n",
    "chunk_size = 100000\n",
    "query = pd.DataFrame()\n",
    "result = None\n",
    "\n",
    "# Processing query by chunks\n",
    "for chunk in pd.read_csv(file, chunksize=chunk_size, iterator=True, low_memory=False):   \n",
    "    query = chunk[['marca', 'producto', 'presentacion', 'categoria']].groupby(['marca','producto','presentacion']).count()\n",
    "    if result is None:\n",
    "        result = query\n",
    "    else:\n",
    "        result = result.add(query, fill_value=0)\n",
    "        \n",
    "# Fit result to show\n",
    "result = result.rename(columns={'categoria' : 'count'})\n",
    "result = result.groupby(['marca', 'producto'])['count'].nlargest(3)\n",
    "# Result output file\n",
    "result.to_csv('result_q4.csv')\n",
    "\n",
    "# Memory use of each column along with the index\n",
    "print(result.memory_usage(index = True))"
   ]
  },
  {
   "cell_type": "code",
   "execution_count": null,
   "id": "ee3e7d78",
   "metadata": {},
   "outputs": [],
   "source": []
  }
 ],
 "metadata": {
  "kernelspec": {
   "display_name": "Python 3",
   "language": "python",
   "name": "python3"
  },
  "language_info": {
   "codemirror_mode": {
    "name": "ipython",
    "version": 3
   },
   "file_extension": ".py",
   "mimetype": "text/x-python",
   "name": "python",
   "nbconvert_exporter": "python",
   "pygments_lexer": "ipython3",
   "version": "3.8.8"
  }
 },
 "nbformat": 4,
 "nbformat_minor": 5
}
